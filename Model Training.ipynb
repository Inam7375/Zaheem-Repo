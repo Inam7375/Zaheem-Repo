{
 "cells": [
  {
   "cell_type": "code",
   "execution_count": 1,
   "metadata": {},
   "outputs": [
    {
     "name": "stdout",
     "output_type": "stream",
     "text": [
      "Done Importing\n"
     ]
    }
   ],
   "source": [
    "import numpy as np\n",
    "import cv2\n",
    "import os \n",
    "import pandas as pd\n",
    "import tensorflow as tf\n",
    "from tensorflow import keras\n",
    "from tensorflow.keras import layers\n",
    "from keras.applications.vgg16 import VGG16\n",
    "from sklearn.model_selection import train_test_split\n",
    "import matplotlib.pyplot as plt\n",
    "from keras.preprocessing.image import ImageDataGenerator\n",
    "from keras.utils.np_utils import to_categorical\n",
    "from tensorflow.keras import regularizers\n",
    "import keras.layers.advanced_activations\n",
    "from tensorflow.python.keras.layers import deserialize, serialize\n",
    "from tensorflow.python.keras.saving import saving_utils\n",
    "from tensorflow.keras.models import Model\n",
    "\n",
    "\n",
    "print(\"Done Importing\")"
   ]
  },
  {
   "cell_type": "code",
   "execution_count": 2,
   "metadata": {},
   "outputs": [
    {
     "name": "stdout",
     "output_type": "stream",
     "text": [
      "0(0, 1) Done | 1(0, 1) Done | 2(0, 1) Done | 3(0, 1) Done | 4(0, 1) Done | 5(0, 1) Done | 6(0, 1) Done | 7(0, 1) Done | 8(0, 1) Done | 9(0, 1) Done | 10(0, 1) Done | 11(0, 1) Done | 12(0, 1) Done | 13(0, 1) Done | 14(0, 1) Done | 15(0, 1) Done | 16(0, 1) Done | 17(0, 1) Done | 18(0, 1) Done | 19(0, 1) Done | 20(0, 1) Done | 21(0, 1) Done | 22(0, 1) Done | 23(0, 1) Done | 24(0, 1) Done | 25(0, 1) Done | 26(0, 1) Done | 27(0, 1) Done | 28(0, 1) Done | 29(0, 1) Done | 30(0, 1) Done | 31(0, 1) Done | 32(0, 1) Done | 33(0, 1) Done | 34(0, 1) Done | 35(0, 1) Done | 36(0, 1) Done | 37(0, 1) Done | 38(0, 1) Done | 39(0, 1) Done | 40(0, 1) Done | 41(0, 1) Done | 42(0, 1) Done | 43(0, 1) Done | 44(0, 1) Done | 45(0, 1) Done | 46(0, 1) Done | 47(0, 1) Done | 48(0, 1) Done | 49(0, 1) Done | 50(0, 1) Done | 51(0, 1) Done | 52(0, 1) Done | 53(0, 1) Done | 54(0, 1) Done | 55(0, 1) Done | 56(0, 1) Done | 57(0, 1) Done | 58(0, 1) Done | 59(0, 1) Done | 60(0, 1) Done | 61(0, 1) Done | 62(0, 1) Done | 63(0, 1) Done | 64(0, 1) Done | 65(0, 1) Done | 66(0, 1) Done | 67(0, 1) Done | 68(0, 1) Done | 69(0, 1) Done | 70(0, 1) Done | 71(0, 1) Done | 72(0, 1) Done | 73(0, 1) Done | 74(0, 1) Done | 75(0, 1) Done | 76(0, 1) Done | 77(0, 1) Done | 78(0, 1) Done | 79(0, 1) Done | 80(0, 1) Done | 81(0, 1) Done | 82(0, 1) Done | 83(0, 1) Done | 84(0, 1) Done | 85(0, 1) Done | 86(0, 1) Done | 87(0, 1) Done | 88(0, 1) Done | 89(0, 1) Done | 90(0, 1) Done | 91(0, 1) Done | 92(0, 1) Done | 93(0, 1) Done | 94(0, 1) Done | 95(0, 1) Done | 96(0, 1) Done | 97(0, 1) Done | 98(0, 1) Done | 99(0, 1) Done | 100(0, 1) Done | 101(0, 1) Done | 102(0, 1) Done | 103(0, 1) Done | 104(0, 1) Done | 105(0, 1) Done | 106(0, 1) Done | 107(0, 1) Done | 108(0, 1) Done | 109(0, 1) Done | 110(0, 1) Done | 111(0, 1) Done | 112(0, 1) Done | 113(0, 1) Done | 114(0, 1) Done | 115(0, 1) Done | 116(0, 1) Done | 117(0, 1) Done | 118(0, 1) Done | 119(0, 1) Done | 120(0, 1) Done | 121(0, 1) Done | 122(0, 1) Done | 123(0, 1) Done | 124(0, 1) Done | 125(0, 1) Done | 126(0, 1) Done | 127(0, 1) Done | 128(0, 1) Done | 129(0, 1) Done | 130(0, 1) Done | 131(0, 1) Done | 132(0, 1) Done | 133(0, 1) Done | 134(0, 1) Done | 135(0, 1) Done | 136(0, 1) Done | 137(0, 1) Done | 138(0, 1) Done | 139(0, 1) Done | 140(0, 1) Done | 141(0, 1) Done | 142(0, 1) Done | 143(0, 1) Done | 144(0, 1) Done | 145(0, 1) Done | 146(0, 1) Done | 147(0, 1) Done | 148(0, 1) Done | 149(0, 1) Done | 150(0, 1) Done | 151(0, 1) Done | 152(0, 1) Done | 153(0, 1) Done | 154(0, 1) Done | 155(0, 1) Done | 156(0, 1) Done | 157(0, 1) Done | 158(0, 1) Done | 159(0, 1) Done | 160(0, 1) Done | 161(0, 1) Done | 162(0, 1) Done | 163(0, 1) Done | 164(0, 1) Done | 165(0, 1) Done | 166(0, 1) Done | 167(0, 1) Done | 168(0, 1) Done | 169(0, 1) Done | 170(0, 1) Done | 171(0, 1) Done | 172(0, 1) Done | 173(0, 1) Done | 174(0, 1) Done | 175(0, 1) Done | 176(0, 1) Done | 177(0, 1) Done | 178(0, 1) Done | 179(0, 1) Done | 180(0, 1) Done | 181(0, 1) Done | 182(0, 1) Done | 183(0, 1) Done | 184(0, 1) Done | 185(0, 1) Done | 186(0, 1) Done | 187(0, 1) Done | 188(0, 1) Done | 189(0, 1) Done | 190(0, 1) Done | 191(0, 1) Done | 192(0, 1) Done | 193(0, 1) Done | 194(0, 1) Done | 195(0, 1) Done | 196(0, 1) Done | 197(0, 1) Done | 198(0, 1) Done | 199(0, 1) Done | 200(0, 1) Done | 201(0, 1) Done | 202(0, 1) Done | 203(0, 1) Done | 204(0, 1) Done | 205(0, 1) Done | 206(0, 1) Done | 207(0, 1) Done | 208(0, 1) Done | 209(0, 1) Done | 210(0, 1) Done | 211(0, 1) Done | 212(0, 1) Done | 213(0, 1) Done | 214(0, 1) Done | 215(0, 1) Done | 216(0, 1) Done | 217(0, 1) Done | 218(0, 1) Done | 219(0, 1) Done | 220(0, 1) Done | 221(0, 1) Done | 222(0, 1) Done | 223(0, 1) Done | 224(0, 1) Done | 225(0, 1) Done | 226(0, 1) Done | 227(0, 1) Done | 228(0, 1) Done | 229(0, 1) Done | 230(0, 1) Done | 231(0, 1) Done | 232(0, 1) Done | 233(0, 1) Done | 234(0, 1) Done | 235(0, 1) Done | 236(0, 1) Done | 237(0, 1) Done | 238(0, 1) Done | 239(0, 1) Done | 240(0, 1) Done | 241(0, 1) Done | 242(0, 1) Done | 243(0, 1) Done | 244(0, 1) Done | 245(0, 1) Done | 246(0, 1) Done | 247(0, 1) Done | 248(0, 1) Done | 249(0, 1) Done | 250(0, 1) Done | 251(0, 1) Done | 252(0, 1) Done | 253(0, 1) Done | 254(0, 1) Done | 255(0, 1) Done | 256(0, 1) Done | 257(0, 1) Done | 258(0, 1) Done | 259(0, 1) Done | 260(0, 1) Done | 261(0, 1) Done | 262(0, 1) Done | 263(0, 1) Done | 264(0, 1) Done | 265(0, 1) Done | 266(0, 1) Done | 267(0, 1) Done | 268(0, 1) Done | 269(0, 1) Done | 270(0, 1) Done | 271(0, 1) Done | 272(0, 1) Done | 273(0, 1) Done | 274(0, 1) Done | 275(0, 1) Done | 276(0, 1) Done | 277(0, 1) Done | 278(0, 1) Done | "
     ]
    }
   ],
   "source": [
    "images = []\n",
    "labels = []\n",
    "\n",
    "#Reading Files\n",
    "outerFiles = os.listdir('Data')\n",
    "len(outerFiles)\n",
    "\n",
    "for i in range(len(outerFiles)):\n",
    "    #Class Files\n",
    "    classFiles = os.listdir('Data\\\\'+outerFiles[i])\n",
    "    for j in range(len(classFiles)):\n",
    "        #Image Files\n",
    "        imageFiles = os.listdir('Data\\\\'+outerFiles[i]+'\\\\'+classFiles[j])\n",
    "        for k in range(len(imageFiles)):\n",
    "            curImg = cv2.imread('Data\\\\'+outerFiles[i]+'\\\\'+classFiles[j]+'\\\\'+imageFiles[k])\n",
    "            labels.append(imageFiles[k].split('.')[-2][-1])\n",
    "            images.append(curImg)\n",
    "    print(str(i) + '(0, 1) Done', end=\" | \")"
   ]
  },
  {
   "cell_type": "code",
   "execution_count": 3,
   "metadata": {},
   "outputs": [
    {
     "data": {
      "text/plain": [
       "(277524, 277524)"
      ]
     },
     "execution_count": 3,
     "metadata": {},
     "output_type": "execute_result"
    }
   ],
   "source": [
    "len(images), len(labels)"
   ]
  },
  {
   "cell_type": "code",
   "execution_count": 4,
   "metadata": {},
   "outputs": [],
   "source": [
    "\"\"\"\n",
    "Getting the validation data\n",
    "\"\"\"\n",
    "X_train, X_val, y_train, y_val = train_test_split(images, labels, test_size=0.2, random_state=116)"
   ]
  },
  {
   "cell_type": "code",
   "execution_count": 5,
   "metadata": {},
   "outputs": [
    {
     "data": {
      "text/plain": [
       "[158995, 63024]"
      ]
     },
     "execution_count": 5,
     "metadata": {},
     "output_type": "execute_result"
    }
   ],
   "source": [
    "\"\"\"\n",
    "Storing the number of samples\n",
    "\"\"\"\n",
    "noOfSamples = []\n",
    "noOfSamples.append(y_train.count('0'))\n",
    "noOfSamples.append(y_train.count('1'))\n",
    "\n",
    "noOfSamples"
   ]
  },
  {
   "cell_type": "code",
   "execution_count": 6,
   "metadata": {},
   "outputs": [
    {
     "data": {
      "image/png": "[encoded data removed]",
      "text/plain": [
       "<Figure size 1440x360 with 1 Axes>"
      ]
     },
     "metadata": {},
     "output_type": "display_data"
    }
   ],
   "source": [
    "plt.figure(figsize=(20,5))\n",
    "plt.pie(noOfSamples, labels=['0', '1'], explode = [0, 0.2], shadow=True)\n",
    "plt.legend(title = \"Classes :\")\n",
    "plt.xlabel(\"Total Ratio Of Classes\", fontsize=15)\n",
    "plt.xticks(fontsize=15)\n",
    "plt.show()"
   ]
  },
  {
   "cell_type": "code",
   "execution_count": 7,
   "metadata": {},
   "outputs": [],
   "source": [
    "\"\"\"\n",
    "Preprocessing image function\n",
    "\"\"\"\n",
    "def preProcessing(img):\n",
    "    img = cv2.cvtColor(img, cv2.COLOR_BGR2GRAY)\n",
    "    img = cv2.equalizeHist(img)\n",
    "    img = img/255\n",
    "    img = cv2.resize(img, (28, 28))\n",
    "    return img"
   ]
  },
  {
   "cell_type": "code",
   "execution_count": 8,
   "metadata": {},
   "outputs": [
    {
     "data": {
      "text/plain": [
       "-1"
      ]
     },
     "execution_count": 8,
     "metadata": {},
     "output_type": "execute_result"
    }
   ],
   "source": [
    "\"\"\"\n",
    "Try Preprocessing\n",
    "\"\"\"\n",
    "img = preProcessing(X_train[1000])\n",
    "conv_img = cv2.resize(img, (28, 28))\n",
    "cv2.imshow('Not Process Image', cv2.resize(X_train[1000], (28, 28)))\n",
    "cv2.waitKey(0)\n",
    "cv2.imshow('Preprocessed Image', conv_img)\n",
    "cv2.waitKey(0)"
   ]
  },
  {
   "cell_type": "code",
   "execution_count": 9,
   "metadata": {},
   "outputs": [],
   "source": [
    "# conv_img.shape"
   ]
  },
  {
   "cell_type": "code",
   "execution_count": 10,
   "metadata": {},
   "outputs": [
    {
     "data": {
      "text/plain": [
       "(222019, 28, 28)"
      ]
     },
     "execution_count": 10,
     "metadata": {},
     "output_type": "execute_result"
    }
   ],
   "source": [
    "\"\"\"\n",
    "Preprocessing image\n",
    "\"\"\"\n",
    "X_train = np.array(list(map(preProcessing, X_train)))\n",
    "X_val = np.array(list(map(preProcessing, X_val)))\n",
    "X_train.shape"
   ]
  },
  {
   "cell_type": "code",
   "execution_count": 57,
   "metadata": {},
   "outputs": [
    {
     "data": {
      "text/plain": [
       "-1"
      ]
     },
     "execution_count": 57,
     "metadata": {},
     "output_type": "execute_result"
    }
   ],
   "source": [
    "cv2.imshow('Preprocessed Image', X_train[10])\n",
    "cv2.waitKey(0)"
   ]
  },
  {
   "cell_type": "code",
   "execution_count": 11,
   "metadata": {},
   "outputs": [],
   "source": [
    "\"\"\"\n",
    "Reshaping images\n",
    "\"\"\"\n",
    "X_train = X_train.reshape(X_train.shape[0], X_train.shape[1], X_train.shape[2], 1)\n",
    "X_val = X_val.reshape(X_val.shape[0],X_val.shape[1], X_val.shape[2], 1)"
   ]
  },
  {
   "cell_type": "code",
   "execution_count": 12,
   "metadata": {},
   "outputs": [],
   "source": [
    "\"\"\"\n",
    "Transforming images\n",
    "\"\"\"\n",
    "dataGen = ImageDataGenerator(width_shift_range=0.1,\n",
    "                            height_shift_range=0.1,\n",
    "                            zoom_range=0.2,\n",
    "                            shear_range=0.1,\n",
    "                            rotation_range=10,\n",
    "                            horizontal_flip=True)\n",
    "\n",
    "dataGen.fit(X_train)"
   ]
  },
  {
   "cell_type": "code",
   "execution_count": 80,
   "metadata": {},
   "outputs": [],
   "source": [
    "# \"\"\"\n",
    "# One Hot Encoding\n",
    "# \"\"\"\n",
    "# # FOR TRAINING DATA\n",
    "# onehot_train = pd.get_dummies(y_train)\n",
    "# onehot_train_labels = onehot_train.columns\n",
    "# y_train_labels = onehot_train.as_matrix()\n",
    "\n",
    "\n",
    "# # FOR VALIDATION DATA\n",
    "# onehot_val = pd.get_dummies(y_val)\n",
    "# onehot_val_labels = onehot_val.columns\n",
    "# y_val_labels = onehot_val.as_matrix()"
   ]
  },
  {
   "cell_type": "code",
   "execution_count": 88,
   "metadata": {},
   "outputs": [],
   "source": [
    "# y_train = y_train_labels\n",
    "# y_val = y_val_labels"
   ]
  },
  {
   "cell_type": "code",
   "execution_count": 91,
   "metadata": {},
   "outputs": [
    {
     "data": {
      "text/plain": [
       "['1', '1', '0', '0', '0', '0', '0', '0', '0', '0']"
      ]
     },
     "execution_count": 91,
     "metadata": {},
     "output_type": "execute_result"
    }
   ],
   "source": [
    "y_train[:10]"
   ]
  },
  {
   "cell_type": "markdown",
   "metadata": {},
   "source": [
    "## Model"
   ]
  },
  {
   "cell_type": "code",
   "execution_count": 13,
   "metadata": {},
   "outputs": [],
   "source": [
    "model = tf.keras.models.Sequential([\n",
    "\n",
    "tf.keras.layers.Conv2D(16, (3,3), input_shape=(28, 28, 1)),\n",
    "keras.layers.PReLU(alpha_initializer=\"zeros\"),\n",
    "\n",
    "# tf.keras.layers.MaxPooling2D(2, 2),\n",
    "\n",
    "tf.keras.layers.Conv2D(32, (3,3)),\n",
    "keras.layers.PReLU(alpha_initializer=\"zeros\"),\n",
    "# tf.keras.layers.MaxPooling2D(2,2),\n",
    "\n",
    "tf.keras.layers.Conv2D(64, (3,3)),\n",
    "keras.layers.PReLU(alpha_initializer=\"zeros\"),\n",
    "# tf.keras.layers.MaxPooling2D(2,2),\n",
    "\n",
    "tf.keras.layers.Conv2D(64, (3,3)),\n",
    "keras.layers.PReLU(alpha_initializer=\"zeros\"),\n",
    "# tf.keras.layers.MaxPooling2D(2,2),\n",
    "\n",
    "tf.keras.layers.Conv2D(128, (3,3)),\n",
    "tf.keras.layers.MaxPooling2D(2,2),\n",
    "\n",
    "tf.keras.layers.Flatten(),\n",
    "# 512 neuron hidden layer\n",
    "tf.keras.layers.Dense(256),\n",
    "                      \n",
    "tf.keras.layers.Dense(1, activation='softmax')\n",
    "])\n",
    "\n",
    "model.compile(loss='categorical_crossentropy', \n",
    "                  optimizer=keras.optimizers.Adam(learning_rate=0.0001),\n",
    "                  metrics=['accuracy'])"
   ]
  },
  {
   "cell_type": "code",
   "execution_count": 14,
   "metadata": {},
   "outputs": [
    {
     "name": "stdout",
     "output_type": "stream",
     "text": [
      "Model: \"sequential\"\n",
      "_________________________________________________________________\n",
      "Layer (type)                 Output Shape              Param #   \n",
      "=================================================================\n",
      "conv2d (Conv2D)              (None, 26, 26, 16)        160       \n",
      "_________________________________________________________________\n",
      "module_wrapper (ModuleWrappe (None, 26, 26, 16)        10816     \n",
      "_________________________________________________________________\n",
      "conv2d_1 (Conv2D)            (None, 24, 24, 32)        4640      \n",
      "_________________________________________________________________\n",
      "module_wrapper_1 (ModuleWrap (None, 24, 24, 32)        18432     \n",
      "_________________________________________________________________\n",
      "conv2d_2 (Conv2D)            (None, 22, 22, 64)        18496     \n",
      "_________________________________________________________________\n",
      "module_wrapper_2 (ModuleWrap (None, 22, 22, 64)        30976     \n",
      "_________________________________________________________________\n",
      "conv2d_3 (Conv2D)            (None, 20, 20, 64)        36928     \n",
      "_________________________________________________________________\n",
      "module_wrapper_3 (ModuleWrap (None, 20, 20, 64)        25600     \n",
      "_________________________________________________________________\n",
      "conv2d_4 (Conv2D)            (None, 18, 18, 128)       73856     \n",
      "_________________________________________________________________\n",
      "max_pooling2d (MaxPooling2D) (None, 9, 9, 128)         0         \n",
      "_________________________________________________________________\n",
      "flatten (Flatten)            (None, 10368)             0         \n",
      "_________________________________________________________________\n",
      "dense (Dense)                (None, 256)               2654464   \n",
      "_________________________________________________________________\n",
      "dense_1 (Dense)              (None, 1)                 257       \n",
      "=================================================================\n",
      "Total params: 2,874,625\n",
      "Trainable params: 2,874,625\n",
      "Non-trainable params: 0\n",
      "_________________________________________________________________\n",
      "None\n"
     ]
    }
   ],
   "source": [
    "# model = model\n",
    "print(model.summary())"
   ]
  },
  {
   "cell_type": "code",
   "execution_count": 15,
   "metadata": {},
   "outputs": [],
   "source": [
    "y_train_float = np.asarray(y_train).astype(np.float32)\n",
    "y_val_float = np.asarray(y_val).astype(np.float32)"
   ]
  },
  {
   "cell_type": "code",
   "execution_count": 19,
   "metadata": {},
   "outputs": [],
   "source": [
    "# batchSizeVal = 20\n",
    "# epochVal = 18\n",
    "# stepsPerEpoch = 100\n",
    "\n",
    "# history = model.fit(dataGen.flow(X_train, y_train_float,\n",
    "#                                 batch_size=batchSizeVal),\n",
    "#                                 steps_per_epoch=stepsPerEpoch,\n",
    "#                                 epochs=epochVal,\n",
    "#                                 validation_data=(X_val, y_val_float),\n",
    "#                                 shuffle=1)"
   ]
  },
  {
   "cell_type": "code",
   "execution_count": 20,
   "metadata": {},
   "outputs": [
    {
     "name": "stdout",
     "output_type": "stream",
     "text": [
      "Epoch 1/18\n",
      "100/100 [==============================] - 31s 304ms/step - loss: 0.0000e+00 - accuracy: 0.2860\n",
      "Epoch 2/18\n",
      "100/100 [==============================] - 30s 304ms/step - loss: 0.0000e+00 - accuracy: 0.2910\n",
      "Epoch 3/18\n",
      "100/100 [==============================] - 29s 290ms/step - loss: 0.0000e+00 - accuracy: 0.2815\n",
      "Epoch 4/18\n",
      "100/100 [==============================] - 29s 294ms/step - loss: 0.0000e+00 - accuracy: 0.2880\n",
      "Epoch 5/18\n",
      "100/100 [==============================] - 29s 288ms/step - loss: 0.0000e+00 - accuracy: 0.2800\n",
      "Epoch 6/18\n",
      "100/100 [==============================] - 29s 288ms/step - loss: 0.0000e+00 - accuracy: 0.2710\n",
      "Epoch 7/18\n",
      "100/100 [==============================] - 29s 287ms/step - loss: 0.0000e+00 - accuracy: 0.2770\n",
      "Epoch 8/18\n",
      "100/100 [==============================] - 29s 287ms/step - loss: 0.0000e+00 - accuracy: 0.2800\n",
      "Epoch 9/18\n",
      "100/100 [==============================] - 29s 294ms/step - loss: 0.0000e+00 - accuracy: 0.2835\n",
      "Epoch 10/18\n",
      "100/100 [==============================] - 29s 291ms/step - loss: 0.0000e+00 - accuracy: 0.2925\n",
      "Epoch 11/18\n",
      "100/100 [==============================] - 29s 291ms/step - loss: 0.0000e+00 - accuracy: 0.2805\n",
      "Epoch 12/18\n",
      "100/100 [==============================] - 29s 293ms/step - loss: 0.0000e+00 - accuracy: 0.2795\n",
      "Epoch 13/18\n",
      "100/100 [==============================] - 29s 289ms/step - loss: 0.0000e+00 - accuracy: 0.3030\n",
      "Epoch 14/18\n",
      "100/100 [==============================] - 31s 306ms/step - loss: 0.0000e+00 - accuracy: 0.2830\n",
      "Epoch 15/18\n",
      "100/100 [==============================] - 32s 319ms/step - loss: 0.0000e+00 - accuracy: 0.2800\n",
      "Epoch 16/18\n",
      "100/100 [==============================] - 25s 254ms/step - loss: 0.0000e+00 - accuracy: 0.2845\n",
      "Epoch 17/18\n",
      "100/100 [==============================] - 26s 259ms/step - loss: 0.0000e+00 - accuracy: 0.2930\n",
      "Epoch 18/18\n",
      "100/100 [==============================] - 25s 245ms/step - loss: 0.0000e+00 - accuracy: 0.2880\n"
     ]
    }
   ],
   "source": [
    "batchSizeVal = 20\n",
    "epochVal = 18\n",
    "stepsPerEpoch = 100\n",
    "\n",
    "history = model.fit(X_train, y_train_float,\n",
    "                                batch_size=batchSizeVal,\n",
    "                                steps_per_epoch=stepsPerEpoch,\n",
    "                                epochs=epochVal,\n",
    "                                shuffle=1)"
   ]
  },
  {
   "cell_type": "code",
   "execution_count": 115,
   "metadata": {},
   "outputs": [
    {
     "data": {
      "text/plain": [
       "(222019,)"
      ]
     },
     "execution_count": 115,
     "metadata": {},
     "output_type": "execute_result"
    }
   ],
   "source": [
    "y_train_float.shape"
   ]
  },
  {
   "cell_type": "code",
   "execution_count": null,
   "metadata": {},
   "outputs": [],
   "source": []
  }
 ],
 "metadata": {
  "kernelspec": {
   "display_name": "Python 3",
   "language": "python",
   "name": "python3"
  },
  "language_info": {
   "codemirror_mode": {
    "name": "ipython",
    "version": 3
   },
   "file_extension": ".py",
   "mimetype": "text/x-python",
   "name": "python",
   "nbconvert_exporter": "python",
   "pygments_lexer": "ipython3",
   "version": "3.7.3"
  }
 },
 "nbformat": 4,
 "nbformat_minor": 2
}
